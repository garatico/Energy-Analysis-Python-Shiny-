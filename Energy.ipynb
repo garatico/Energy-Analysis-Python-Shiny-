{
 "cells": [
  {
   "cell_type": "markdown",
   "metadata": {},
   "source": [
    "#### *TITLE:*    Energy Analysis in Python\n",
    "#### *AUTHOR:*   Giovanni Aratico  \n",
    "#### *DATE:*     12/03/2022"
   ]
  },
  {
   "cell_type": "markdown",
   "metadata": {},
   "source": [
    "*DESCRIPTION:* Provides a brief high level overview of world energy metrics in a Python Shiny Dashboard Application. \n",
    "\n",
    "*QUESTIONS:*\n",
    "* 1.) How does world electricity generation change over time?\n",
    "* 2.) How does the distribution of electricity generation sources change over time?\n",
    "* 3.) Can we approximate trends and predict energy usage by source and country over a given period of time?\n",
    "\n",
    "*CHALLENGES:*\n",
    "* Not all countries have a full report of certain metrics for certain time periods. \n",
    "* Some sources like BioFuel did not start reporting until 1985. \n",
    "\n"
   ]
  },
  {
   "cell_type": "markdown",
   "metadata": {},
   "source": [
    "*ANALYSIS:*\n",
    "* Data sourced from Kaggle in CSV format. \n",
    "* CSV load into Python, all wrangling/transformations are done inside each respective method tab. \n",
    "* Each question is allocated an individual tab for visual interactivity. \n",
    "* Code was then separated into multiple modules for easier readability. \n",
    "* For the regression analysis:\n",
    "\n",
    "    * If there is no data from the selected time period, an error is shown to the user.\n",
    "    * If the data is only partial, the app will create a model using whatever data is available while also notifying the user of incomplete data. \n",
    "    * Users can choose between a linear model and a polynomial model to the 2nd degree.\n",
    "    * The R squared metric is reported on screen for both partial and complete data for models. "
   ]
  },
  {
   "cell_type": "markdown",
   "metadata": {},
   "source": [
    "*ANSWERS:*\n",
    "* 1.) World electricity generation has increased over time. This is not unexpected due to increasing populations and developing countries.  \n",
    "\n",
    "    * World electricity increased from approx. 10,000 tW hours to just under 26,000 tW hours.\n",
    "    * Overall follows a roughly linear trend. \n",
    "\n",
    "![Plot 1](./img/plot1.png)\n",
    "\n",
    "* 2.) Renewable energy sources (Solar, Wind) have increased in usage where fossil fuels (Coal, Oil) have decreased over all. Noteworthy trends include: \n",
    "\n",
    "    * Solar increases from < 0.1% to 0.1% in the 2000 - 2010 time span, then from 0.1% to 3.3% in the 2010 - 2020 time span. A significant growth. \n",
    "    * Nuclear decreases from 17.1% to 10.2% in the 2000 - 2020 time span. \n",
    "    * Oil decreases from 8.0% to 4.4% in the 2000 - 2020 time span. \n",
    "    * Coal is the largest share for every year in the reported span. \n",
    "\n",
    "![Plot 2](./img/plot2.png)\n",
    "\n",
    "* 3.) Trends shows correlations gravitate closer to linear or single curve when you select larger and more developed geographic regions and using energy sources accounting for a bigger share. When selecting single countries and sources accounting for a smaller share, the trend is more likely to be varied and thus harder to get an accurate model using a 1st or 2nd degree model. \n",
    "\n",
    "![Plot 3](./img/plot3.png)"
   ]
  },
  {
   "cell_type": "markdown",
   "metadata": {},
   "source": [
    "*SOURCES:*\n",
    "* https://www.kaggle.com/datasets/pralabhpoudel/world-energy-consumption"
   ]
  },
  {
   "cell_type": "markdown",
   "metadata": {},
   "source": [
    "*TECH USED:*\n",
    "* Python\n",
    " * NumPy\n",
    " * Pandas\n",
    " * Shiny for Python\n",
    " * MatplotLib\n",
    " * Scikit-Learn\n",
    "\n",
    " *FOLDER STRUCTURE:*  \n",
    " * /data/\n",
    " \n",
    "    * wec.csv\n",
    "\n",
    "* /img/\n",
    "\n",
    "    * plot1.png\n",
    "    * plot2.png\n",
    "    * plot3.png\n",
    "\n",
    "* /src/\n",
    "\n",
    "    * nav_controls.py\n",
    "    * plot_controls.py\n",
    "    * wrangle.py\n",
    "\n",
    "* /app.py\n",
    "* /Energy.ipynp"
   ]
  }
 ],
 "metadata": {
  "kernelspec": {
   "display_name": "Python 3.10.5 64-bit",
   "language": "python",
   "name": "python3"
  },
  "language_info": {
   "name": "python",
   "version": "3.10.5"
  },
  "orig_nbformat": 4,
  "vscode": {
   "interpreter": {
    "hash": "1e58fedf9996156fe94ea2f7a04e3cddb6a649acf29a5dd9f0343d5ef246d8a3"
   }
  }
 },
 "nbformat": 4,
 "nbformat_minor": 2
}
